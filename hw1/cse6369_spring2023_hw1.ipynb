{
  "nbformat": 4,
  "nbformat_minor": 0,
  "metadata": {
    "colab": {
      "provenance": []
    },
    "kernelspec": {
      "name": "python3",
      "display_name": "Python 3"
    },
    "language_info": {
      "name": "python"
    },
    "gpuClass": "standard"
  },
  "cells": [
    {
      "cell_type": "markdown",
      "source": [
        "# CSE 6369 - Spring 2023 - Homework 1\n",
        "\n",
        "\n",
        "## Student Name:\n",
        "\n",
        "\n",
        "## Student ID: "
      ],
      "metadata": {
        "id": "BSjb-zwKzJSW"
      }
    },
    {
      "cell_type": "markdown",
      "source": [
        "# Install packages"
      ],
      "metadata": {
        "id": "qg05ESogmSng"
      }
    },
    {
      "cell_type": "code",
      "source": [
        "!pip install gymnasium==0.27.1 -q\n",
        "!pip install gymnasium[box2d] -q\n",
        "!pip install moviepy -q\n",
        "!pip install -U kora -q"
      ],
      "metadata": {
        "id": "ZU6o_mdnmMAR"
      },
      "execution_count": null,
      "outputs": []
    },
    {
      "cell_type": "markdown",
      "source": [
        "# Import libraries"
      ],
      "metadata": {
        "id": "lLDP4n6cmEuZ"
      }
    },
    {
      "cell_type": "code",
      "execution_count": null,
      "metadata": {
        "id": "-e69d4FGlaGd"
      },
      "outputs": [],
      "source": [
        "import pickle\n",
        "import random\n",
        "import argparse\n",
        "import moviepy\n",
        "import matplotlib.pyplot as plt\n",
        "import seaborn as sns\n",
        "from kora.drive import upload_public\n",
        "from google.colab import drive\n",
        "\n",
        "drive.mount('/content/gdrive')\n",
        "%cd gdrive/MyDrive/assign_01/\n",
        "\n",
        "from learning_algorithms import PGTrainer\n",
        "from utils import seed_everything"
      ]
    },
    {
      "cell_type": "markdown",
      "source": [
        "# Train an agent"
      ],
      "metadata": {
        "id": "A9-qFcWVpzGc"
      }
    },
    {
      "cell_type": "code",
      "source": [
        "# set simulation parameters\n",
        "params = {\n",
        "    'env_name': 'CartPole-v1',\n",
        "    'rng_seed': 6369,\n",
        "    'reward_to_go': True,\n",
        "    'reward_discount': False,\n",
        "    'n_rollout': 10,\n",
        "    'n_trajectory_per_rollout': 2,\n",
        "    'hidden_dim': 32,\n",
        "    'lr': 3e-3,\n",
        "    'exp_name': 'CartPole_v1_t0'\n",
        "}\n",
        "\n",
        "# Seed RNGs\n",
        "seed_everything(params['rng_seed'])\n",
        "\n",
        "# Train agent\n",
        "trainer = PGTrainer(params)\n",
        "trainer.run_training_loop()"
      ],
      "metadata": {
        "id": "n0hSISzelkYw"
      },
      "execution_count": null,
      "outputs": []
    },
    {
      "cell_type": "markdown",
      "source": [
        "# Display Video"
      ],
      "metadata": {
        "id": "MFBDYmdAwWUg"
      }
    },
    {
      "cell_type": "code",
      "source": [
        "# (ref: https://stackoverflow.com/questions/48376580/google-colab-how-to-read-data-from-my-google-drive)\n",
        "# Upload video\n",
        "url = upload_public('CartPole/rl-video-episode-0.mp4')\n",
        "# Then display it\n",
        "from IPython.display import HTML\n",
        "HTML(f\"\"\"<video src={url} width=500 controls/>\"\"\")"
      ],
      "metadata": {
        "id": "FZn9tuKXwVgZ"
      },
      "execution_count": null,
      "outputs": []
    },
    {
      "cell_type": "markdown",
      "source": [
        "# Visualize learning curve"
      ],
      "metadata": {
        "id": "2hE4ZI8ZocXH"
      }
    },
    {
      "cell_type": "code",
      "source": [
        "# (ref: http://rail.eecs.berkeley.edu/deeprlcourse/static/misc/viz.pdf)\n",
        "file_name = params['exp_name'] + '.pkl'\n",
        "with open(file_name, 'rb') as f:\n",
        "    ro_reward = pickle.load(f)\n",
        "\n",
        "# Plot the data\n",
        "sns.lineplot(data=ro_reward, linestyle='--', label='tr1')\n",
        "plt.xlabel('rollout', fontsize=25, labelpad=-2)\n",
        "plt.ylabel('reward', fontsize=25)\n",
        "plt.title('Learning curve for CartPole', fontsize=30)\n",
        "plt.legend()\n",
        "plt.grid()\n",
        "plt.show()"
      ],
      "metadata": {
        "id": "rSM3mWLnmsYY"
      },
      "execution_count": null,
      "outputs": []
    }
  ]
}